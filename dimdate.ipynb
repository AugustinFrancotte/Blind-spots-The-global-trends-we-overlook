{
 "cells": [
  {
   "cell_type": "code",
   "execution_count": 1,
   "id": "dd454845",
   "metadata": {},
   "outputs": [],
   "source": [
    "import numpy as np\n",
    "import pandas as pd\n",
    "import matplotlib.pyplot as plt\n",
    "import seaborn as sns\n"
   ]
  },
  {
   "cell_type": "code",
   "execution_count": 3,
   "id": "de18e224",
   "metadata": {},
   "outputs": [],
   "source": [
    " # construction de la dimension date par années et par décades\n",
    "econ=pd.read_csv('Global Economy Indicators.csv')#,sep='|',encoding='cp1252'\n",
    "col2=[]\n",
    "for c in econ.columns:\n",
    "    col2.append(c.strip())\n",
    "econ.columns=col2"
   ]
  },
  {
   "cell_type": "code",
   "execution_count": 4,
   "id": "8c8c477c",
   "metadata": {},
   "outputs": [],
   "source": [
    "yr=econ['Year'].unique()"
   ]
  },
  {
   "cell_type": "code",
   "execution_count": 5,
   "id": "6cd9c333",
   "metadata": {},
   "outputs": [],
   "source": [
    "dimdate=pd.DataFrame()\n",
    "dimdate['Year']=yr\n"
   ]
  },
  {
   "cell_type": "code",
   "execution_count": 6,
   "id": "5446daec",
   "metadata": {},
   "outputs": [],
   "source": [
    "dimdate['Decade']=yr\n",
    "for i,y in dimdate['Decade'].items():\n",
    "    dimdate.iloc[i,1]=y-i%10\n"
   ]
  },
  {
   "cell_type": "code",
   "execution_count": null,
   "id": "78a79a6d",
   "metadata": {},
   "outputs": [],
   "source": []
  },
  {
   "cell_type": "code",
   "execution_count": null,
   "id": "5180fd07",
   "metadata": {},
   "outputs": [],
   "source": []
  }
 ],
 "metadata": {
  "kernelspec": {
   "display_name": "Python 3 (ipykernel)",
   "language": "python",
   "name": "python3"
  },
  "language_info": {
   "codemirror_mode": {
    "name": "ipython",
    "version": 3
   },
   "file_extension": ".py",
   "mimetype": "text/x-python",
   "name": "python",
   "nbconvert_exporter": "python",
   "pygments_lexer": "ipython3",
   "version": "3.11.7"
  }
 },
 "nbformat": 4,
 "nbformat_minor": 5
}
